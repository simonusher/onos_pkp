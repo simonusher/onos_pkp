{
 "cells": [
  {
   "cell_type": "code",
   "execution_count": 14,
   "metadata": {
    "pycharm": {
     "is_executing": false
    }
   },
   "outputs": [],
   "source": [
    "%config IPCompleter.greedy = True # for code auto-completion"
   ]
  },
  {
   "cell_type": "code",
   "execution_count": 15,
   "metadata": {
    "pycharm": {
     "is_executing": false
    }
   },
   "outputs": [],
   "source": [
    "from geopy.geocoders import Nominatim\n",
    "import folium\n",
    "import pandas as pd\n",
    "import time\n",
    "from tqdm import tqdm\n",
    "from displayfunction import display\n"
   ]
  },
  {
   "cell_type": "code",
   "execution_count": 16,
   "metadata": {
    "pycharm": {
     "is_executing": false
    }
   },
   "outputs": [],
   "source": [
    "geolocator = Nominatim(timeout=10, user_agent = \"onos.pkp\") # ! an absolute maximum of 1 request per second"
   ]
  },
  {
   "cell_type": "code",
   "execution_count": 17,
   "metadata": {
    "pycharm": {
     "is_executing": false
    }
   },
   "outputs": [
    {
     "name": "stdout",
     "text": [
      "Wrocław Główny, tunel boczny, Glinianki, Osiedle Huby, Wrocław, województwo dolnośląskie, 50-000, Polska\n",
      "(51.097916, 17.0379512)\n",
      "51.097916\n",
      "17.0379512\n",
      "place_id\n",
      "licence\n",
      "osm_type\n",
      "osm_id\n",
      "boundingbox\n",
      "lat\n",
      "lon\n",
      "display_name\n",
      "class\n",
      "type\n",
      "importance\n",
      "icon\n"
     ],
     "output_type": "stream"
    }
   ],
   "source": [
    "# example\n",
    "location = geolocator.geocode('Wrocław Główny')\n",
    "display(location)\n",
    "print(location.latitude)\n",
    "print(location.longitude)\n",
    "display(location.raw)"
   ]
  },
  {
   "cell_type": "code",
   "execution_count": 18,
   "metadata": {
    "pycharm": {
     "is_executing": false
    }
   },
   "outputs": [
    {
     "data": {
      "text/plain": "      id                  name\n0      0  ALEKSANDRÓW KUJAWSKI\n1      1             ANDRYCHÓW\n2      2              AUGUSTÓW\n3      3                BABIAK\n4      4              BABIMOST\n..   ...                   ...\n454  454               ŻMIGRÓD\n455  455                  ŻORY\n456  456               ŻYCHLIN\n457  457              ŻYRARDÓW\n458  458                ŻYWIEC\n\n[459 rows x 2 columns]",
      "text/html": "<div>\n<style scoped>\n    .dataframe tbody tr th:only-of-type {\n        vertical-align: middle;\n    }\n\n    .dataframe tbody tr th {\n        vertical-align: top;\n    }\n\n    .dataframe thead th {\n        text-align: right;\n    }\n</style>\n<table border=\"1\" class=\"dataframe\">\n  <thead>\n    <tr style=\"text-align: right;\">\n      <th></th>\n      <th>id</th>\n      <th>name</th>\n    </tr>\n  </thead>\n  <tbody>\n    <tr>\n      <th>0</th>\n      <td>0</td>\n      <td>ALEKSANDRÓW KUJAWSKI</td>\n    </tr>\n    <tr>\n      <th>1</th>\n      <td>1</td>\n      <td>ANDRYCHÓW</td>\n    </tr>\n    <tr>\n      <th>2</th>\n      <td>2</td>\n      <td>AUGUSTÓW</td>\n    </tr>\n    <tr>\n      <th>3</th>\n      <td>3</td>\n      <td>BABIAK</td>\n    </tr>\n    <tr>\n      <th>4</th>\n      <td>4</td>\n      <td>BABIMOST</td>\n    </tr>\n    <tr>\n      <th>...</th>\n      <td>...</td>\n      <td>...</td>\n    </tr>\n    <tr>\n      <th>454</th>\n      <td>454</td>\n      <td>ŻMIGRÓD</td>\n    </tr>\n    <tr>\n      <th>455</th>\n      <td>455</td>\n      <td>ŻORY</td>\n    </tr>\n    <tr>\n      <th>456</th>\n      <td>456</td>\n      <td>ŻYCHLIN</td>\n    </tr>\n    <tr>\n      <th>457</th>\n      <td>457</td>\n      <td>ŻYRARDÓW</td>\n    </tr>\n    <tr>\n      <th>458</th>\n      <td>458</td>\n      <td>ŻYWIEC</td>\n    </tr>\n  </tbody>\n</table>\n<p>459 rows × 2 columns</p>\n</div>"
     },
     "metadata": {},
     "output_type": "execute_result",
     "execution_count": 18
    }
   ],
   "source": [
    "ic_nodes = pd.read_csv('ic.nodes')\n",
    "ic_nodes"
   ]
  },
  {
   "cell_type": "code",
   "execution_count": 19,
   "metadata": {
    "pycharm": {
     "is_executing": false
    }
   },
   "outputs": [],
   "source": [
    "get_coordinates_from_api = False # change to True, if you want coordinates update\n",
    "\n",
    "if get_coordinates_from_api:\n",
    "    \n",
    "    data_with_coord = pd.DataFrame(columns=['id','name','latitude','longitude'])\n",
    "\n",
    "    time_per_request = 1.2\n",
    "\n",
    "    data = ic_nodes\n",
    "    # data = ic_nodes.head(4) # for testing\n",
    "#     data = ic_nodes[150:170]\n",
    "    \n",
    "    empty = []\n",
    "    class Location(object):\n",
    "        latitude = 0\n",
    "        longitude = 0\n",
    "    \n",
    "    with tqdm(total=len(data.index)) as pbar:\n",
    "        for index, row in data.iterrows():\n",
    "\n",
    "            time.sleep(time_per_request)\n",
    "            location = geolocator.geocode(row['name']+', Polska')  # ! an absolute maximum of 1 request per second\n",
    "            \n",
    "            if location is None:\n",
    "                empty.append(row['name'])\n",
    "                location = Location()\n",
    "                \n",
    "            data_with_coord = data_with_coord.append(\n",
    "                {'id': row['id'],\n",
    "                 'name': row['name'],\n",
    "                 'latitude': location.latitude,\n",
    "                 'longitude': location.longitude\n",
    "                }\n",
    "                , ignore_index=True)\n",
    "            pbar.update(1)\n",
    "    \n",
    "    display(empty) # handle manualy\n",
    "    # None's: 'MAŁASZEWICZE PRZYSTANEK', 'WARSZAWA ZACHODNIA PERON 8'\n",
    "    \n",
    "    data_with_coord.to_csv('ic_coord.nodes', index=False)\n",
    "    display(data_with_coord)"
   ]
  },
  {
   "cell_type": "code",
   "execution_count": 20,
   "metadata": {
    "pycharm": {
     "is_executing": false
    }
   },
   "outputs": [
    {
     "name": "stdout",
     "text": [
      "id\n",
      "name\n",
      "latitude\n",
      "longitude\n",
      "id\n",
      "name\n",
      "latitude\n",
      "longitude\n"
     ],
     "output_type": "stream"
    }
   ],
   "source": [
    "ic_nodes_coord = pd.read_csv('ic_coord.nodes')\n",
    "\n",
    "manual_fix = [\n",
    "    ('MAŁASZEWICZE PRZYSTANEK', 52.027912, 23.5297023),\n",
    "    ('WARSZAWA ZACHODNIA PERON 8', 52.221139, 20.9590913),\n",
    "    ('KOSTRZYN', 52.591157, 14.6473684),\n",
    "    ('KRZYŻ', 52.8344443,16.0049416),\n",
    "    \n",
    "]\n",
    "\n",
    "# weird coordinates \n",
    "\n",
    "for name, lat, lon in manual_fix:\n",
    "    ic_nodes_coord.loc[ic_nodes_coord['name'] == name, 'latitude'] = lat\n",
    "    ic_nodes_coord.loc[ic_nodes_coord['name'] == name, 'longitude'] = lon\n",
    "\n",
    "ic_nodes_coord.to_csv('ic_coord.nodes', index=False)\n",
    "\n",
    "display(ic_nodes_coord[165:170])\n",
    "display(ic_nodes_coord)"
   ]
  }
 ],
 "metadata": {
  "kernelspec": {
   "display_name": "Python 3",
   "language": "python",
   "name": "python3"
  },
  "language_info": {
   "codemirror_mode": {
    "name": "ipython",
    "version": 3
   },
   "file_extension": ".py",
   "mimetype": "text/x-python",
   "name": "python",
   "nbconvert_exporter": "python",
   "pygments_lexer": "ipython3",
   "version": "3.7.6"
  },
  "pycharm": {
   "stem_cell": {
    "cell_type": "raw",
    "source": [],
    "metadata": {
     "collapsed": false
    }
   }
  }
 },
 "nbformat": 4,
 "nbformat_minor": 4
}